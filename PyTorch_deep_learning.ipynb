{
  "nbformat": 4,
  "nbformat_minor": 0,
  "metadata": {
    "colab": {
      "provenance": [],
      "authorship_tag": "ABX9TyMesv6ykgr8xw5BlD2od2dP",
      "include_colab_link": true
    },
    "kernelspec": {
      "name": "python3",
      "display_name": "Python 3"
    },
    "language_info": {
      "name": "python"
    }
  },
  "cells": [
    {
      "cell_type": "markdown",
      "metadata": {
        "id": "view-in-github",
        "colab_type": "text"
      },
      "source": [
        "<a href=\"https://colab.research.google.com/github/krishnamalani1164/deep-learning-pytorch/blob/main/PyTorch_deep_learning.ipynb\" target=\"_parent\"><img src=\"https://colab.research.google.com/assets/colab-badge.svg\" alt=\"Open In Colab\"/></a>"
      ]
    },
    {
      "cell_type": "markdown",
      "source": [
        "#PyTorch Basics:Tensors and Gradients"
      ],
      "metadata": {
        "id": "_nmPQ883xaTB"
      }
    },
    {
      "cell_type": "code",
      "execution_count": 1,
      "metadata": {
        "id": "cQBumQgzxRvr"
      },
      "outputs": [],
      "source": [
        "import torch"
      ]
    },
    {
      "cell_type": "markdown",
      "source": [
        "#Tensors"
      ],
      "metadata": {
        "id": "GVtdIG3ryK2N"
      }
    },
    {
      "cell_type": "markdown",
      "source": [
        "###At its core Pytorch is a library for processing tensors. A tensor is a number,vector,matrix or any n-dimensional array.Let's create a tensor with a single number."
      ],
      "metadata": {
        "id": "4iOZSa8NyOp4"
      }
    },
    {
      "cell_type": "code",
      "source": [
        "#Number\n",
        "t1 = torch.tensor(4.)\n",
        "t1"
      ],
      "metadata": {
        "colab": {
          "base_uri": "https://localhost:8080/"
        },
        "id": "9kOknjyNyHjJ",
        "outputId": "3b04a7fa-bc55-499b-8559-3074e161a33a"
      },
      "execution_count": 2,
      "outputs": [
        {
          "output_type": "execute_result",
          "data": {
            "text/plain": [
              "tensor(4.)"
            ]
          },
          "metadata": {},
          "execution_count": 2
        }
      ]
    },
    {
      "cell_type": "markdown",
      "source": [
        "## Lets create slightly more complex tensors"
      ],
      "metadata": {
        "id": "DF23bKuLyKMg"
      }
    },
    {
      "cell_type": "code",
      "source": [
        "#Vector\n",
        "t2 = torch.tensor([1.,2,3,4])\n",
        "t2"
      ],
      "metadata": {
        "colab": {
          "base_uri": "https://localhost:8080/"
        },
        "id": "z0KxkR76zOKG",
        "outputId": "314fd617-5a95-4944-bb9e-11f70e9a0b56"
      },
      "execution_count": 3,
      "outputs": [
        {
          "output_type": "execute_result",
          "data": {
            "text/plain": [
              "tensor([1., 2., 3., 4.])"
            ]
          },
          "metadata": {},
          "execution_count": 3
        }
      ]
    },
    {
      "cell_type": "code",
      "source": [
        "#Matrix\n",
        "t3 = torch.tensor([[5.,6],[7,8],[9,10]])\n",
        "t3"
      ],
      "metadata": {
        "colab": {
          "base_uri": "https://localhost:8080/"
        },
        "id": "P0B3G7kKzecm",
        "outputId": "e717aa6f-1e27-48a4-97f5-4e763823e4cf"
      },
      "execution_count": 4,
      "outputs": [
        {
          "output_type": "execute_result",
          "data": {
            "text/plain": [
              "tensor([[ 5.,  6.],\n",
              "        [ 7.,  8.],\n",
              "        [ 9., 10.]])"
            ]
          },
          "metadata": {},
          "execution_count": 4
        }
      ]
    },
    {
      "cell_type": "code",
      "source": [
        "#3-dimensional array\n",
        "t4 = torch.tensor([[[11,12,13],[13,14,15],[15,16,17],[17,18,19]]])\n",
        "t4"
      ],
      "metadata": {
        "colab": {
          "base_uri": "https://localhost:8080/"
        },
        "id": "Q1iKNHDnzwQg",
        "outputId": "f598b9c6-6745-4fa3-da0b-9bbcd70524d1"
      },
      "execution_count": 5,
      "outputs": [
        {
          "output_type": "execute_result",
          "data": {
            "text/plain": [
              "tensor([[[11, 12, 13],\n",
              "         [13, 14, 15],\n",
              "         [15, 16, 17],\n",
              "         [17, 18, 19]]])"
            ]
          },
          "metadata": {},
          "execution_count": 5
        }
      ]
    },
    {
      "cell_type": "markdown",
      "source": [
        "### Note:Tensors can have any number of dimensions and different lengths along each dimension.We can inspect the length along each dimension using the .shape property of a tensor"
      ],
      "metadata": {
        "id": "yWKEh7mk0ChZ"
      }
    },
    {
      "cell_type": "code",
      "source": [
        "t1.shape"
      ],
      "metadata": {
        "colab": {
          "base_uri": "https://localhost:8080/"
        },
        "id": "sNaR9lXl0VAN",
        "outputId": "b188cb8e-460f-46d8-9a1a-435757f4f255"
      },
      "execution_count": 6,
      "outputs": [
        {
          "output_type": "execute_result",
          "data": {
            "text/plain": [
              "torch.Size([])"
            ]
          },
          "metadata": {},
          "execution_count": 6
        }
      ]
    },
    {
      "cell_type": "code",
      "source": [
        "t2.shape"
      ],
      "metadata": {
        "colab": {
          "base_uri": "https://localhost:8080/"
        },
        "id": "3DMbj4j00cYO",
        "outputId": "260d542e-2962-4ae7-b8d6-3f9546a44ce5"
      },
      "execution_count": 7,
      "outputs": [
        {
          "output_type": "execute_result",
          "data": {
            "text/plain": [
              "torch.Size([4])"
            ]
          },
          "metadata": {},
          "execution_count": 7
        }
      ]
    },
    {
      "cell_type": "code",
      "source": [
        "t3.shape"
      ],
      "metadata": {
        "colab": {
          "base_uri": "https://localhost:8080/"
        },
        "id": "-K2y4Hjx0eXB",
        "outputId": "264be206-9365-4054-9dc1-7f0bf5a3d4a9"
      },
      "execution_count": 8,
      "outputs": [
        {
          "output_type": "execute_result",
          "data": {
            "text/plain": [
              "torch.Size([3, 2])"
            ]
          },
          "metadata": {},
          "execution_count": 8
        }
      ]
    },
    {
      "cell_type": "code",
      "source": [
        "t4.shape"
      ],
      "metadata": {
        "colab": {
          "base_uri": "https://localhost:8080/"
        },
        "id": "4fd3IKr70gCv",
        "outputId": "990768b4-6df1-4125-8ad5-5d0e3e91bb07"
      },
      "execution_count": 9,
      "outputs": [
        {
          "output_type": "execute_result",
          "data": {
            "text/plain": [
              "torch.Size([1, 4, 3])"
            ]
          },
          "metadata": {},
          "execution_count": 9
        }
      ]
    },
    {
      "cell_type": "markdown",
      "source": [
        "#Tensor operations and gradients"
      ],
      "metadata": {
        "id": "zv1XvTfK1KTn"
      }
    },
    {
      "cell_type": "code",
      "source": [
        "#Create tensors.\n",
        "x = torch.tensor(3.)\n",
        "w = torch.tensor(4., requires_grad = True)\n",
        "b = torch.tensor(5., requires_grad = True)"
      ],
      "metadata": {
        "id": "tWlZw8rf1OKX"
      },
      "execution_count": 10,
      "outputs": []
    },
    {
      "cell_type": "code",
      "source": [
        "y = w * x + b\n",
        "y #Computation of tensors is done through .backward"
      ],
      "metadata": {
        "colab": {
          "base_uri": "https://localhost:8080/"
        },
        "id": "nYiaxwRX1wDw",
        "outputId": "daa8018d-7dea-4f56-982d-031c330fd9cd"
      },
      "execution_count": 12,
      "outputs": [
        {
          "output_type": "execute_result",
          "data": {
            "text/plain": [
              "tensor(17., grad_fn=<AddBackward0>)"
            ]
          },
          "metadata": {},
          "execution_count": 12
        }
      ]
    },
    {
      "cell_type": "code",
      "source": [
        "#Compute derivatives\n",
        "y.backward()"
      ],
      "metadata": {
        "id": "sUwqbmhX2E5x"
      },
      "execution_count": 13,
      "outputs": []
    },
    {
      "cell_type": "code",
      "source": [
        "#Display gradients\n",
        "print('dy/dx:',x.grad) # Gradients is just an another word for derivative\n",
        "print('dy/dw:',w.grad)\n",
        "print('dy/db:',b.grad)"
      ],
      "metadata": {
        "colab": {
          "base_uri": "https://localhost:8080/"
        },
        "id": "JQAW0Djz2SiQ",
        "outputId": "91b71d83-b733-471c-a048-d028b00266e8"
      },
      "execution_count": 14,
      "outputs": [
        {
          "output_type": "stream",
          "name": "stdout",
          "text": [
            "dy/dx: None\n",
            "dy/dw: tensor(3.)\n",
            "dy/db: tensor(1.)\n"
          ]
        }
      ]
    },
    {
      "cell_type": "markdown",
      "source": [
        "#Introduction to libraries"
      ],
      "metadata": {
        "id": "oXC1H95S3tqu"
      }
    },
    {
      "cell_type": "code",
      "source": [
        "import numpy as np\n",
        "x = np.array([[1,2],[3,4.]])\n",
        "x"
      ],
      "metadata": {
        "colab": {
          "base_uri": "https://localhost:8080/"
        },
        "id": "aNfp5vdJ3xFs",
        "outputId": "865ead03-c093-45a5-eb0f-224263dbed7e"
      },
      "execution_count": 16,
      "outputs": [
        {
          "output_type": "execute_result",
          "data": {
            "text/plain": [
              "array([[1., 2.],\n",
              "       [3., 4.]])"
            ]
          },
          "metadata": {},
          "execution_count": 16
        }
      ]
    },
    {
      "cell_type": "markdown",
      "source": [
        "#### we can covert a numpy array to a pytorch using torch.from_numpy"
      ],
      "metadata": {
        "id": "7GB1ufOX4FVP"
      }
    },
    {
      "cell_type": "code",
      "source": [
        "#Conert the numpy array to a torch tensor\n",
        "y = torch.from_numpy(x)\n",
        "y"
      ],
      "metadata": {
        "colab": {
          "base_uri": "https://localhost:8080/"
        },
        "id": "y-xRbmAe4RL-",
        "outputId": "1f6b83ea-86b3-4d22-e4af-0ddcc953a2c8"
      },
      "execution_count": 18,
      "outputs": [
        {
          "output_type": "execute_result",
          "data": {
            "text/plain": [
              "tensor([[1., 2.],\n",
              "        [3., 4.]], dtype=torch.float64)"
            ]
          },
          "metadata": {},
          "execution_count": 18
        }
      ]
    },
    {
      "cell_type": "markdown",
      "source": [
        "#### lets verify that the numpy array and torch tensor have similar data types"
      ],
      "metadata": {
        "id": "AWrs2pa64ekg"
      }
    },
    {
      "cell_type": "code",
      "source": [
        "x.dtype, y.dtype"
      ],
      "metadata": {
        "colab": {
          "base_uri": "https://localhost:8080/"
        },
        "id": "EOHrZbsf4mJ_",
        "outputId": "b6fc0993-8e31-49c5-cc91-d8d9d40489e6"
      },
      "execution_count": 19,
      "outputs": [
        {
          "output_type": "execute_result",
          "data": {
            "text/plain": [
              "(dtype('float64'), torch.float64)"
            ]
          },
          "metadata": {},
          "execution_count": 19
        }
      ]
    },
    {
      "cell_type": "markdown",
      "source": [
        "#### we can convert a pytorch tensor to a numpy array using .numpy method of a tensor"
      ],
      "metadata": {
        "id": "DXKK2pf-48u5"
      }
    },
    {
      "cell_type": "code",
      "source": [
        "z = y.numpy()\n",
        "z"
      ],
      "metadata": {
        "colab": {
          "base_uri": "https://localhost:8080/"
        },
        "id": "rKpAQ7aq5IBh",
        "outputId": "8733cbf7-74af-46d8-9197-72da1f8740bc"
      },
      "execution_count": 20,
      "outputs": [
        {
          "output_type": "execute_result",
          "data": {
            "text/plain": [
              "array([[1., 2.],\n",
              "       [3., 4.]])"
            ]
          },
          "metadata": {},
          "execution_count": 20
        }
      ]
    }
  ]
}